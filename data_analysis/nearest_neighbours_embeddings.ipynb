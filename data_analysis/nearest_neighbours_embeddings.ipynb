{
  "nbformat": 4,
  "nbformat_minor": 0,
  "metadata": {
    "colab": {
      "name": "nearest_neighbours_embeddings.ipynb",
      "provenance": [],
      "collapsed_sections": [],
      "machine_shape": "hm"
    },
    "kernelspec": {
      "display_name": "Python 3",
      "name": "python3"
    },
    "accelerator": "GPU"
  },
  "cells": [
    {
      "cell_type": "code",
      "metadata": {
        "id": "d_Tuz4-8tVm8"
      },
      "source": [
        "%reload_ext tensorboard\n",
        "%tensorboard --logdir=\"EManual_vs_original_roberta_embeddings\""
      ],
      "execution_count": null,
      "outputs": []
    }
  ]
}