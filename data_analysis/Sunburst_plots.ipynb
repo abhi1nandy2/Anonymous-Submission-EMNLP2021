{
  "nbformat": 4,
  "nbformat_minor": 0,
  "metadata": {
    "colab": {
      "name": "Sunburst_plots.ipynb",
      "provenance": [],
      "collapsed_sections": []
    },
    "kernelspec": {
      "name": "python3",
      "display_name": "Python 3"
    },
    "language_info": {
      "name": "python"
    }
  },
  "cells": [
    {
      "cell_type": "code",
      "metadata": {
        "id": "1Ysb3SrzHnWJ"
      },
      "source": [
        "!pip install plotly==4.8.2"
      ],
      "execution_count": null,
      "outputs": []
    },
    {
      "cell_type": "code",
      "metadata": {
        "id": "6OIaaTNd1BVr"
      },
      "source": [
        "import os"
      ],
      "execution_count": null,
      "outputs": []
    },
    {
      "cell_type": "code",
      "metadata": {
        "id": "1RQFn5gg11TK"
      },
      "source": [
        "import json\n",
        "\n",
        "def get_questions(filename):\n",
        "    q_list = []\n",
        "    with open(filename, 'r') as f:\n",
        "        dict_ = json.load(f)\n",
        "    \n",
        "    list_ = dict_['All_Questions']\n",
        "    for item_ in list_:\n",
        "        q_list.append(item_['Question'].lower())\n",
        "\n",
        "    return q_list\n",
        "\n",
        "train_q_list = get_questions(\"<TRAINING_ANNOTATED_QA_JSON_FILEPATH>\")\n",
        "valid_q_list = get_questions(\"<VALIDATION_ANNOTATED_QA_JSON_FILEPATH>\")\n",
        "test_q_list = get_questions(\"<TEST_ANNOTATED_QA_JSON_FILEPATH>\")"
      ],
      "execution_count": null,
      "outputs": []
    },
    {
      "cell_type": "code",
      "metadata": {
        "colab": {
          "base_uri": "https://localhost:8080/",
          "height": 212
        },
        "id": "UaQKKcjX37ua",
        "outputId": "a24a6efa-1d6f-4786-d9b4-13a896d04842"
      },
      "source": [
        "import pandas as pd\n",
        "\n",
        "total_list = []\n",
        "total_list.extend(train_q_list)\n",
        "total_list.extend(valid_q_list)\n",
        "total_list.extend(test_q_list)\n",
        "\n",
        "df = pd.DataFrame()\n",
        "\n",
        "df['word1'] = ''\n",
        "df['word2'] = ''\n",
        "df['word3'] = ''\n",
        "df['toks_3'] = ''\n",
        "\n",
        "list_1 = []\n",
        "list_2 = []\n",
        "list_3 = []\n",
        "list_4 = []\n",
        "\n",
        "toks_3_dict= {}\n",
        "\n",
        "for i, item_ in enumerate(total_list):\n",
        "    tokens = item_.split(\" \")\n",
        "\n",
        "    toks_3 = \" \".join(tokens[:3])\n",
        "\n",
        "    if toks_3 not in toks_3_dict:\n",
        "        toks_3_dict[toks_3] = 1\n",
        "        list_1.append(tokens[0])\n",
        "        list_2.append(tokens[1])\n",
        "        list_3.append(tokens[2])\n",
        "        list_4.append(toks_3)\n",
        "    else:\n",
        "        toks_3_dict[toks_3] += 1\n",
        "\n",
        "\n",
        "\n",
        "df['word1'] = list_1\n",
        "df['word2'] = list_2\n",
        "df['word3'] = list_3\n",
        "df['toks_3'] = list_4\n",
        "\n",
        "df['count'] = df['toks_3'].apply(lambda x: toks_3_dict[x])\n",
        "\n",
        "print(df.shape)\n",
        "df.head()"
      ],
      "execution_count": null,
      "outputs": [
        {
          "output_type": "stream",
          "text": [
            "(203, 5)\n"
          ],
          "name": "stdout"
        },
        {
          "output_type": "execute_result",
          "data": {
            "text/html": [
              "<div>\n",
              "<style scoped>\n",
              "    .dataframe tbody tr th:only-of-type {\n",
              "        vertical-align: middle;\n",
              "    }\n",
              "\n",
              "    .dataframe tbody tr th {\n",
              "        vertical-align: top;\n",
              "    }\n",
              "\n",
              "    .dataframe thead th {\n",
              "        text-align: right;\n",
              "    }\n",
              "</style>\n",
              "<table border=\"1\" class=\"dataframe\">\n",
              "  <thead>\n",
              "    <tr style=\"text-align: right;\">\n",
              "      <th></th>\n",
              "      <th>word1</th>\n",
              "      <th>word2</th>\n",
              "      <th>word3</th>\n",
              "      <th>toks_3</th>\n",
              "      <th>count</th>\n",
              "    </tr>\n",
              "  </thead>\n",
              "  <tbody>\n",
              "    <tr>\n",
              "      <th>0</th>\n",
              "      <td>can</td>\n",
              "      <td>i</td>\n",
              "      <td>take</td>\n",
              "      <td>can i take</td>\n",
              "      <td>1</td>\n",
              "    </tr>\n",
              "    <tr>\n",
              "      <th>1</th>\n",
              "      <td>how</td>\n",
              "      <td>to</td>\n",
              "      <td>arrange</td>\n",
              "      <td>how to arrange</td>\n",
              "      <td>1</td>\n",
              "    </tr>\n",
              "    <tr>\n",
              "      <th>2</th>\n",
              "      <td>how</td>\n",
              "      <td>lock</td>\n",
              "      <td>home</td>\n",
              "      <td>how lock home</td>\n",
              "      <td>1</td>\n",
              "    </tr>\n",
              "    <tr>\n",
              "      <th>3</th>\n",
              "      <td>how</td>\n",
              "      <td>can</td>\n",
              "      <td>i</td>\n",
              "      <td>how can i</td>\n",
              "      <td>282</td>\n",
              "    </tr>\n",
              "    <tr>\n",
              "      <th>4</th>\n",
              "      <td>where</td>\n",
              "      <td>can</td>\n",
              "      <td>i</td>\n",
              "      <td>where can i</td>\n",
              "      <td>51</td>\n",
              "    </tr>\n",
              "  </tbody>\n",
              "</table>\n",
              "</div>"
            ],
            "text/plain": [
              "   word1 word2    word3          toks_3  count\n",
              "0    can     i     take      can i take      1\n",
              "1    how    to  arrange  how to arrange      1\n",
              "2    how  lock     home   how lock home      1\n",
              "3    how   can        i       how can i    282\n",
              "4  where   can        i     where can i     51"
            ]
          },
          "metadata": {
            "tags": []
          },
          "execution_count": 4
        }
      ]
    },
    {
      "cell_type": "code",
      "metadata": {
        "colab": {
          "base_uri": "https://localhost:8080/"
        },
        "id": "FpOWP2sK6O7C",
        "outputId": "85618934-800a-4c98-eb63-7ade55b33fe0"
      },
      "source": [
        "import plotly.express as px\n",
        "fig = px.sunburst(df, path=['word1','word2','word3'], values='count')\n",
        "fig.show()"
      ],
      "execution_count": null,
      "outputs": [
        {
          "output_type": "display_data",
          "data": {
            "text/html": [
              "<html>\n",
              "<head><meta charset=\"utf-8\" /></head>\n",
              "<body>\n",
              "    <div>\n",
              "            <script src=\"https://cdnjs.cloudflare.com/ajax/libs/mathjax/2.7.5/MathJax.js?config=TeX-AMS-MML_SVG\"></script><script type=\"text/javascript\">if (window.MathJax) {MathJax.Hub.Config({SVG: {font: \"STIX-Web\"}});}</script>\n",
              "                <script type=\"text/javascript\">window.PlotlyConfig = {MathJaxConfig: 'local'};</script>\n",
              "        <script src=\"https://cdn.plot.ly/plotly-latest.min.js\"></script>    \n",
              "            <div id=\"e7fb82df-c358-4b28-8b98-9530f3667306\" class=\"plotly-graph-div\" style=\"height:525px; width:100%;\"></div>\n",
              "            <script type=\"text/javascript\">\n",
              "                \n",
              "                    window.PLOTLYENV=window.PLOTLYENV || {};\n",
              "                    \n",
              "                if (document.getElementById(\"e7fb82df-c358-4b28-8b98-9530f3667306\")) {\n",
              "                    Plotly.newPlot(\n",
              "                        'e7fb82df-c358-4b28-8b98-9530f3667306',\n",
              "                        [{\"branchvalues\": \"total\", \"domain\": {\"x\": [0.0, 1.0], \"y\": [0.0, 1.0]}, \"hovertemplate\": \"labels=%{label}<br>count=%{value}<br>parent=%{parent}<br>id=%{id}<extra></extra>\", \"ids\": [\"is/there/a\", \"everyone/can/access\", \"can/i/access\", \"how/to/access\", \"what/are/accessibility\", \"how/does/accidental\", \"how/to/activate\", \"can/i/add\", \"how/to/add\", \"can/i/adjust\", \"how/to/adjust\", \"which/feature/allows\", \"which/settings/allows\", \"/i/am\", \"when/i/am\", \"how/to/answer\", \"how/does/anti\", \"is/there/any\", \"do/every/app\", \"how/to/apply\", \"in/some/areas\", \"can/i/arrange\", \"how/to/arrange\", \"what/does/at&t\", \"what/is/auto\", \"what/is/autofill\", \"can/i/backup\", \"is/it/bad\", \"can/the/battery\", \"is/the/battery\", \"what/is/bookmarks\", \"is/my/camera\", \"no/devices/can\", \"/how/can\", \"can/i/can\", \"where/i/can\", \"how/we/can\", \"why/i/cannot\", \"can/i/change\", \"how/to/change\", \"when/i/charge\", \"can/i/check\", \"how/does/click\", \"what/does/color\", \"where/is/color\", \"what/all/components\", \"how/to/configure\", \"i/cannott/connect\", \"can/i/connect\", \"how/to/connect\", \"can/i/convert\", \"how/to/creat\", \"how/to/create\", \"what/is/credential\", \"can/i/customize\", \"how/to/customize\", \"can/i/delete\", \"how/to/delete\", \"can/sound/detector\", \"is/my/device\", \"why/my/device\", \"if/no/devices\", \"what/is/direct\", \"how/to/disable\", \"how/to/display\", \"i/get/distorted\", \"want/to/do\", \"what/to/do\", \"what/channels/does\", \"can/i/edit\", \"how/to/edit\", \"can/i/enable\", \"how/to/enable\", \"how/to/enble\", \"can/you/explain\", \"how/to/find\", \"i/want/finger\", \"what/are/fingerprint\", \"does/the/fingerprint\", \"what/is/focus\", \"can/i/forcefully\", \"how/to/forcefully\", \"how/to/get\", \"my/device/has\", \"i/am/having\", \"how/to/hide\", \"how/lock/home\", \"how/can/i\", \"where/can/i\", \"how/do/i\", \"where/do/i\", \"when/should/i\", \"from/where/i\", \"what/happens/if\", \"can/i/improve\", \"how/to/improve\", \"how/to/increase\", \"how/to/increase/decrease\", \"can/i/inspect\", \"how/to/install\", \"what/is/interaction\", \"i/don't/know\", \"where/is/language\", \"where/is/left/right\", \"can/i/limit\", \"how/to/live\", \"i/scanned/lot\", \"what/does/magnifier\", \"what/is/magnifier\", \"how/to/make\", \"can/i/manage\", \"what/does/meant\", \"can/i/mute\", \"what/is/my\", \"can/i/navigate\", \"how/to/navigate\", \"is/this/nfc\", \"i/am/not\", \"data/consumption/of\", \"what/does/one\", \"how/do/open\", \"can/i/open\", \"how/to/open\", \"how/notification/panel\", \"does/samsung/pass\", \"does/samsung/pay\", \"can/i/place\", \"could/you/please\", \"what/is/pointer\", \"is/it/possible\", \"does/face/recognition\", \"can/i/record\", \"can/i/remove\", \"how/to/remove\", \"how/to/reset\", \"how/to/restart\", \"can/i/rotate\", \"how/to/rotate\", \"how/bixby/routines\", \"is/it/safe\", \"how/does/samsung\", \"what/is/samsung\", \"what/is/screen\", \"does/the/screen\", \"i/am/sensitive\", \"can/i/set\", \"how/to/set\", \"how/to/setup\", \"what/does/show\", \"how/to/silent\", \"can/i/sort\", \"what/does/status\", \"how/to/stop\", \"i/am/stuck\", \"what/does/subtitle\", \"how/to/supervise\", \"how/does/swipe\", \"can/we/switch\", \"can/i/take\", \"explain/about/tap\", \"what/is/tap\", \"explain/about/the\", \"what/are/the\", \"which/are/the\", \"what/does/the\", \"what/is/the\", \"where/is/the\", \"i/need/the\", \"how/much/time\", \"i/have/to\", \"i/need/to\", \"i/want/to\", \"can/i/transfer\", \"how/to/transfer\", \"how/to/turn\", \"i/am/unable\", \"can/i/uninstall\", \"how/to/uninstall\", \"can/i/unlock\", \"how/to/unlock\", \"is/the/usb\", \"can/i/use\", \"how/to/use\", \"where/are/user\", \"can/i/view\", \"how/to/view\", \"where/to/view\", \"can/bixby/vision\", \"does/bixby/vision\", \"how/bixby/vision\", \"is/bixby/vision\", \"what/is/voice\", \"where/is/voice\", \"i/don't/want\", \"i/just/want\", \"how/can/we\", \"how/do/we\", \"//what\", \"is/this/wifi\", \"where/is/wireless\", \"what/is/world\", \"how/do/you\", \"how/to/zoom\", \"/\", \"explain/about\", \"what/all\", \"i/am\", \"what/are\", \"where/are\", \"which/are\", \"can/bixby\", \"does/bixby\", \"how/bixby\", \"is/bixby\", \"everyone/can\", \"how/can\", \"where/can\", \"i/cannott\", \"what/channels\", \"data/consumption\", \"my/device\", \"no/devices\", \"how/do\", \"where/do\", \"how/does\", \"what/does\", \"i/don't\", \"do/every\", \"does/face\", \"which/feature\", \"i/get\", \"what/happens\", \"i/have\", \"/how\", \"/i\", \"can/i\", \"when/i\", \"where/i\", \"why/i\", \"what/is\", \"where/is\", \"is/it\", \"i/just\", \"how/lock\", \"how/much\", \"is/my\", \"why/my\", \"i/need\", \"if/no\", \"how/notification\", \"does/samsung\", \"i/scanned\", \"which/settings\", \"when/should\", \"in/some\", \"can/sound\", \"can/the\", \"does/the\", \"is/the\", \"is/there\", \"is/this\", \"how/to\", \"want/to\", \"what/to\", \"where/to\", \"i/want\", \"can/we\", \"how/we\", \"from/where\", \"can/you\", \"could/you\", \"\", \"can\", \"could\", \"data\", \"do\", \"does\", \"everyone\", \"explain\", \"from\", \"how\", \"i\", \"if\", \"in\", \"is\", \"my\", \"no\", \"want\", \"what\", \"when\", \"where\", \"which\", \"why\"], \"labels\": [\"a\", \"access\", \"access\", \"access\", \"accessibility\", \"accidental\", \"activate\", \"add\", \"add\", \"adjust\", \"adjust\", \"allows\", \"allows\", \"am\", \"am\", \"answer\", \"anti\", \"any\", \"app\", \"apply\", \"areas\", \"arrange\", \"arrange\", \"at&t\", \"auto\", \"autofill\", \"backup\", \"bad\", \"battery\", \"battery\", \"bookmarks\", \"camera\", \"can\", \"can\", \"can\", \"can\", \"can\", \"cannot\", \"change\", \"change\", \"charge\", \"check\", \"click\", \"color\", \"color\", \"components\", \"configure\", \"connect\", \"connect\", \"connect\", \"convert\", \"creat\", \"create\", \"credential\", \"customize\", \"customize\", \"delete\", \"delete\", \"detector\", \"device\", \"device\", \"devices\", \"direct\", \"disable\", \"display\", \"distorted\", \"do\", \"do\", \"does\", \"edit\", \"edit\", \"enable\", \"enable\", \"enble\", \"explain\", \"find\", \"finger\", \"fingerprint\", \"fingerprint\", \"focus\", \"forcefully\", \"forcefully\", \"get\", \"has\", \"having\", \"hide\", \"home\", \"i\", \"i\", \"i\", \"i\", \"i\", \"i\", \"if\", \"improve\", \"improve\", \"increase\", \"increase/decrease\", \"inspect\", \"install\", \"interaction\", \"know\", \"language\", \"left/right\", \"limit\", \"live\", \"lot\", \"magnifier\", \"magnifier\", \"make\", \"manage\", \"meant\", \"mute\", \"my\", \"navigate\", \"navigate\", \"nfc\", \"not\", \"of\", \"one\", \"open\", \"open\", \"open\", \"panel\", \"pass\", \"pay\", \"place\", \"please\", \"pointer\", \"possible\", \"recognition\", \"record\", \"remove\", \"remove\", \"reset\", \"restart\", \"rotate\", \"rotate\", \"routines\", \"safe\", \"samsung\", \"samsung\", \"screen\", \"screen\", \"sensitive\", \"set\", \"set\", \"setup\", \"show\", \"silent\", \"sort\", \"status\", \"stop\", \"stuck\", \"subtitle\", \"supervise\", \"swipe\", \"switch\", \"take\", \"tap\", \"tap\", \"the\", \"the\", \"the\", \"the\", \"the\", \"the\", \"the\", \"time\", \"to\", \"to\", \"to\", \"transfer\", \"transfer\", \"turn\", \"unable\", \"uninstall\", \"uninstall\", \"unlock\", \"unlock\", \"usb\", \"use\", \"use\", \"user\", \"view\", \"view\", \"view\", \"vision\", \"vision\", \"vision\", \"vision\", \"voice\", \"voice\", \"want\", \"want\", \"we\", \"we\", \"what\", \"wifi\", \"wireless\", \"world\", \"you\", \"zoom\", \"\", \"about\", \"all\", \"am\", \"are\", \"are\", \"are\", \"bixby\", \"bixby\", \"bixby\", \"bixby\", \"can\", \"can\", \"can\", \"cannott\", \"channels\", \"consumption\", \"device\", \"devices\", \"do\", \"do\", \"does\", \"does\", \"don't\", \"every\", \"face\", \"feature\", \"get\", \"happens\", \"have\", \"how\", \"i\", \"i\", \"i\", \"i\", \"i\", \"is\", \"is\", \"it\", \"just\", \"lock\", \"much\", \"my\", \"my\", \"need\", \"no\", \"notification\", \"samsung\", \"scanned\", \"settings\", \"should\", \"some\", \"sound\", \"the\", \"the\", \"the\", \"there\", \"this\", \"to\", \"to\", \"to\", \"to\", \"want\", \"we\", \"we\", \"where\", \"you\", \"you\", \"\", \"can\", \"could\", \"data\", \"do\", \"does\", \"everyone\", \"explain\", \"from\", \"how\", \"i\", \"if\", \"in\", \"is\", \"my\", \"no\", \"want\", \"what\", \"when\", \"where\", \"which\", \"why\"], \"name\": \"\", \"parents\": [\"is/there\", \"everyone/can\", \"can/i\", \"how/to\", \"what/are\", \"how/does\", \"how/to\", \"can/i\", \"how/to\", \"can/i\", \"how/to\", \"which/feature\", \"which/settings\", \"/i\", \"when/i\", \"how/to\", \"how/does\", \"is/there\", \"do/every\", \"how/to\", \"in/some\", \"can/i\", \"how/to\", \"what/does\", \"what/is\", \"what/is\", \"can/i\", \"is/it\", \"can/the\", \"is/the\", \"what/is\", \"is/my\", \"no/devices\", \"/how\", \"can/i\", \"where/i\", \"how/we\", \"why/i\", \"can/i\", \"how/to\", \"when/i\", \"can/i\", \"how/does\", \"what/does\", \"where/is\", \"what/all\", \"how/to\", \"i/cannott\", \"can/i\", \"how/to\", \"can/i\", \"how/to\", \"how/to\", \"what/is\", \"can/i\", \"how/to\", \"can/i\", \"how/to\", \"can/sound\", \"is/my\", \"why/my\", \"if/no\", \"what/is\", \"how/to\", \"how/to\", \"i/get\", \"want/to\", \"what/to\", \"what/channels\", \"can/i\", \"how/to\", \"can/i\", \"how/to\", \"how/to\", \"can/you\", \"how/to\", \"i/want\", \"what/are\", \"does/the\", \"what/is\", \"can/i\", \"how/to\", \"how/to\", \"my/device\", \"i/am\", \"how/to\", \"how/lock\", \"how/can\", \"where/can\", \"how/do\", \"where/do\", \"when/should\", \"from/where\", \"what/happens\", \"can/i\", \"how/to\", \"how/to\", \"how/to\", \"can/i\", \"how/to\", \"what/is\", \"i/don't\", \"where/is\", \"where/is\", \"can/i\", \"how/to\", \"i/scanned\", \"what/does\", \"what/is\", \"how/to\", \"can/i\", \"what/does\", \"can/i\", \"what/is\", \"can/i\", \"how/to\", \"is/this\", \"i/am\", \"data/consumption\", \"what/does\", \"how/do\", \"can/i\", \"how/to\", \"how/notification\", \"does/samsung\", \"does/samsung\", \"can/i\", \"could/you\", \"what/is\", \"is/it\", \"does/face\", \"can/i\", \"can/i\", \"how/to\", \"how/to\", \"how/to\", \"can/i\", \"how/to\", \"how/bixby\", \"is/it\", \"how/does\", \"what/is\", \"what/is\", \"does/the\", \"i/am\", \"can/i\", \"how/to\", \"how/to\", \"what/does\", \"how/to\", \"can/i\", \"what/does\", \"how/to\", \"i/am\", \"what/does\", \"how/to\", \"how/does\", \"can/we\", \"can/i\", \"explain/about\", \"what/is\", \"explain/about\", \"what/are\", \"which/are\", \"what/does\", \"what/is\", \"where/is\", \"i/need\", \"how/much\", \"i/have\", \"i/need\", \"i/want\", \"can/i\", \"how/to\", \"how/to\", \"i/am\", \"can/i\", \"how/to\", \"can/i\", \"how/to\", \"is/the\", \"can/i\", \"how/to\", \"where/are\", \"can/i\", \"how/to\", \"where/to\", \"can/bixby\", \"does/bixby\", \"how/bixby\", \"is/bixby\", \"what/is\", \"where/is\", \"i/don't\", \"i/just\", \"how/can\", \"how/do\", \"\", \"is/this\", \"where/is\", \"what/is\", \"how/do\", \"how/to\", \"\", \"explain\", \"what\", \"i\", \"what\", \"where\", \"which\", \"can\", \"does\", \"how\", \"is\", \"everyone\", \"how\", \"where\", \"i\", \"what\", \"data\", \"my\", \"no\", \"how\", \"where\", \"how\", \"what\", \"i\", \"do\", \"does\", \"which\", \"i\", \"what\", \"i\", \"\", \"\", \"can\", \"when\", \"where\", \"why\", \"what\", \"where\", \"is\", \"i\", \"how\", \"how\", \"is\", \"why\", \"i\", \"if\", \"how\", \"does\", \"i\", \"which\", \"when\", \"in\", \"can\", \"can\", \"does\", \"is\", \"is\", \"is\", \"how\", \"want\", \"what\", \"where\", \"i\", \"can\", \"how\", \"from\", \"can\", \"could\", \"\", \"\", \"\", \"\", \"\", \"\", \"\", \"\", \"\", \"\", \"\", \"\", \"\", \"\", \"\", \"\", \"\", \"\", \"\", \"\", \"\", \"\"], \"type\": \"sunburst\", \"values\": [1, 1, 4, 2, 1, 1, 1, 4, 3, 1, 1, 2, 1, 1, 1, 1, 1, 1, 1, 1, 1, 1, 1, 1, 1, 1, 1, 1, 1, 1, 1, 1, 1, 2, 1, 12, 1, 1, 4, 2, 1, 2, 1, 1, 1, 1, 2, 1, 2, 1, 1, 1, 4, 1, 2, 3, 2, 4, 1, 1, 1, 1, 1, 1, 1, 1, 1, 1, 1, 1, 1, 2, 14, 1, 3, 1, 1, 1, 1, 1, 1, 1, 2, 1, 1, 1, 1, 282, 51, 132, 11, 1, 1, 1, 1, 1, 1, 1, 1, 1, 1, 1, 1, 1, 1, 1, 1, 1, 1, 1, 1, 1, 1, 1, 1, 1, 1, 2, 1, 1, 1, 1, 1, 1, 1, 1, 1, 3, 1, 7, 1, 1, 2, 5, 1, 1, 1, 1, 1, 1, 1, 2, 1, 1, 1, 4, 7, 1, 1, 1, 2, 1, 1, 2, 1, 1, 1, 1, 1, 1, 1, 1, 35, 1, 1, 36, 4, 1, 1, 1, 15, 37, 1, 1, 3, 1, 1, 1, 3, 2, 1, 1, 13, 1, 2, 1, 2, 1, 1, 1, 1, 1, 1, 1, 1, 1, 2, 1, 1, 1, 1, 3, 2, 1, 2, 1, 7, 37, 1, 1, 1, 1, 2, 1, 1, 283, 51, 1, 1, 1, 1, 1, 138, 11, 5, 9, 2, 1, 1, 2, 1, 1, 1, 2, 1, 56, 2, 12, 1, 52, 9, 9, 1, 1, 1, 2, 1, 16, 1, 1, 2, 1, 1, 1, 1, 1, 1, 2, 2, 2, 2, 100, 1, 1, 2, 38, 1, 1, 1, 3, 3, 4, 63, 3, 1, 1, 6, 1, 2, 1, 532, 68, 1, 1, 18, 1, 1, 1, 102, 3, 86, 4, 2]}],\n",
              "                        {\"legend\": {\"tracegroupgap\": 0}, \"margin\": {\"t\": 60}, \"template\": {\"data\": {\"bar\": [{\"error_x\": {\"color\": \"#2a3f5f\"}, \"error_y\": {\"color\": \"#2a3f5f\"}, \"marker\": {\"line\": {\"color\": \"#E5ECF6\", \"width\": 0.5}}, \"type\": \"bar\"}], \"barpolar\": [{\"marker\": {\"line\": {\"color\": \"#E5ECF6\", \"width\": 0.5}}, \"type\": \"barpolar\"}], \"carpet\": [{\"aaxis\": {\"endlinecolor\": \"#2a3f5f\", \"gridcolor\": \"white\", \"linecolor\": \"white\", \"minorgridcolor\": \"white\", \"startlinecolor\": \"#2a3f5f\"}, \"baxis\": {\"endlinecolor\": \"#2a3f5f\", \"gridcolor\": \"white\", \"linecolor\": \"white\", \"minorgridcolor\": \"white\", \"startlinecolor\": \"#2a3f5f\"}, \"type\": \"carpet\"}], \"choropleth\": [{\"colorbar\": {\"outlinewidth\": 0, \"ticks\": \"\"}, \"type\": \"choropleth\"}], \"contour\": [{\"colorbar\": {\"outlinewidth\": 0, \"ticks\": \"\"}, \"colorscale\": [[0.0, \"#0d0887\"], [0.1111111111111111, \"#46039f\"], [0.2222222222222222, \"#7201a8\"], [0.3333333333333333, \"#9c179e\"], [0.4444444444444444, \"#bd3786\"], [0.5555555555555556, \"#d8576b\"], [0.6666666666666666, \"#ed7953\"], [0.7777777777777778, \"#fb9f3a\"], [0.8888888888888888, \"#fdca26\"], [1.0, \"#f0f921\"]], \"type\": \"contour\"}], \"contourcarpet\": [{\"colorbar\": {\"outlinewidth\": 0, \"ticks\": \"\"}, \"type\": \"contourcarpet\"}], \"heatmap\": [{\"colorbar\": {\"outlinewidth\": 0, \"ticks\": \"\"}, \"colorscale\": [[0.0, \"#0d0887\"], [0.1111111111111111, \"#46039f\"], [0.2222222222222222, \"#7201a8\"], [0.3333333333333333, \"#9c179e\"], [0.4444444444444444, \"#bd3786\"], [0.5555555555555556, \"#d8576b\"], [0.6666666666666666, \"#ed7953\"], [0.7777777777777778, \"#fb9f3a\"], [0.8888888888888888, \"#fdca26\"], [1.0, \"#f0f921\"]], \"type\": \"heatmap\"}], \"heatmapgl\": [{\"colorbar\": {\"outlinewidth\": 0, \"ticks\": \"\"}, \"colorscale\": [[0.0, \"#0d0887\"], [0.1111111111111111, \"#46039f\"], [0.2222222222222222, \"#7201a8\"], [0.3333333333333333, \"#9c179e\"], [0.4444444444444444, \"#bd3786\"], [0.5555555555555556, \"#d8576b\"], [0.6666666666666666, \"#ed7953\"], [0.7777777777777778, \"#fb9f3a\"], [0.8888888888888888, \"#fdca26\"], [1.0, \"#f0f921\"]], \"type\": \"heatmapgl\"}], \"histogram\": [{\"marker\": {\"colorbar\": {\"outlinewidth\": 0, \"ticks\": \"\"}}, \"type\": \"histogram\"}], \"histogram2d\": [{\"colorbar\": {\"outlinewidth\": 0, \"ticks\": \"\"}, \"colorscale\": [[0.0, \"#0d0887\"], [0.1111111111111111, \"#46039f\"], [0.2222222222222222, \"#7201a8\"], [0.3333333333333333, \"#9c179e\"], [0.4444444444444444, \"#bd3786\"], [0.5555555555555556, \"#d8576b\"], [0.6666666666666666, \"#ed7953\"], [0.7777777777777778, \"#fb9f3a\"], [0.8888888888888888, \"#fdca26\"], [1.0, \"#f0f921\"]], \"type\": \"histogram2d\"}], \"histogram2dcontour\": [{\"colorbar\": {\"outlinewidth\": 0, \"ticks\": \"\"}, \"colorscale\": [[0.0, \"#0d0887\"], [0.1111111111111111, \"#46039f\"], [0.2222222222222222, \"#7201a8\"], [0.3333333333333333, \"#9c179e\"], [0.4444444444444444, \"#bd3786\"], [0.5555555555555556, \"#d8576b\"], [0.6666666666666666, \"#ed7953\"], [0.7777777777777778, \"#fb9f3a\"], [0.8888888888888888, \"#fdca26\"], [1.0, \"#f0f921\"]], \"type\": \"histogram2dcontour\"}], \"mesh3d\": [{\"colorbar\": {\"outlinewidth\": 0, \"ticks\": \"\"}, \"type\": \"mesh3d\"}], \"parcoords\": [{\"line\": {\"colorbar\": {\"outlinewidth\": 0, \"ticks\": \"\"}}, \"type\": \"parcoords\"}], \"pie\": [{\"automargin\": true, \"type\": \"pie\"}], \"scatter\": [{\"marker\": {\"colorbar\": {\"outlinewidth\": 0, \"ticks\": \"\"}}, \"type\": \"scatter\"}], \"scatter3d\": [{\"line\": {\"colorbar\": {\"outlinewidth\": 0, \"ticks\": \"\"}}, \"marker\": {\"colorbar\": {\"outlinewidth\": 0, \"ticks\": \"\"}}, \"type\": \"scatter3d\"}], \"scattercarpet\": [{\"marker\": {\"colorbar\": {\"outlinewidth\": 0, \"ticks\": \"\"}}, \"type\": \"scattercarpet\"}], \"scattergeo\": [{\"marker\": {\"colorbar\": {\"outlinewidth\": 0, \"ticks\": \"\"}}, \"type\": \"scattergeo\"}], \"scattergl\": [{\"marker\": {\"colorbar\": {\"outlinewidth\": 0, \"ticks\": \"\"}}, \"type\": \"scattergl\"}], \"scattermapbox\": [{\"marker\": {\"colorbar\": {\"outlinewidth\": 0, \"ticks\": \"\"}}, \"type\": \"scattermapbox\"}], \"scatterpolar\": [{\"marker\": {\"colorbar\": {\"outlinewidth\": 0, \"ticks\": \"\"}}, \"type\": \"scatterpolar\"}], \"scatterpolargl\": [{\"marker\": {\"colorbar\": {\"outlinewidth\": 0, \"ticks\": \"\"}}, \"type\": \"scatterpolargl\"}], \"scatterternary\": [{\"marker\": {\"colorbar\": {\"outlinewidth\": 0, \"ticks\": \"\"}}, \"type\": \"scatterternary\"}], \"surface\": [{\"colorbar\": {\"outlinewidth\": 0, \"ticks\": \"\"}, \"colorscale\": [[0.0, \"#0d0887\"], [0.1111111111111111, \"#46039f\"], [0.2222222222222222, \"#7201a8\"], [0.3333333333333333, \"#9c179e\"], [0.4444444444444444, \"#bd3786\"], [0.5555555555555556, \"#d8576b\"], [0.6666666666666666, \"#ed7953\"], [0.7777777777777778, \"#fb9f3a\"], [0.8888888888888888, \"#fdca26\"], [1.0, \"#f0f921\"]], \"type\": \"surface\"}], \"table\": [{\"cells\": {\"fill\": {\"color\": \"#EBF0F8\"}, \"line\": {\"color\": \"white\"}}, \"header\": {\"fill\": {\"color\": \"#C8D4E3\"}, \"line\": {\"color\": \"white\"}}, \"type\": \"table\"}]}, \"layout\": {\"annotationdefaults\": {\"arrowcolor\": \"#2a3f5f\", \"arrowhead\": 0, \"arrowwidth\": 1}, \"coloraxis\": {\"colorbar\": {\"outlinewidth\": 0, \"ticks\": \"\"}}, \"colorscale\": {\"diverging\": [[0, \"#8e0152\"], [0.1, \"#c51b7d\"], [0.2, \"#de77ae\"], [0.3, \"#f1b6da\"], [0.4, \"#fde0ef\"], [0.5, \"#f7f7f7\"], [0.6, \"#e6f5d0\"], [0.7, \"#b8e186\"], [0.8, \"#7fbc41\"], [0.9, \"#4d9221\"], [1, \"#276419\"]], \"sequential\": [[0.0, \"#0d0887\"], [0.1111111111111111, \"#46039f\"], [0.2222222222222222, \"#7201a8\"], [0.3333333333333333, \"#9c179e\"], [0.4444444444444444, \"#bd3786\"], [0.5555555555555556, \"#d8576b\"], [0.6666666666666666, \"#ed7953\"], [0.7777777777777778, \"#fb9f3a\"], [0.8888888888888888, \"#fdca26\"], [1.0, \"#f0f921\"]], \"sequentialminus\": [[0.0, \"#0d0887\"], [0.1111111111111111, \"#46039f\"], [0.2222222222222222, \"#7201a8\"], [0.3333333333333333, \"#9c179e\"], [0.4444444444444444, \"#bd3786\"], [0.5555555555555556, \"#d8576b\"], [0.6666666666666666, \"#ed7953\"], [0.7777777777777778, \"#fb9f3a\"], [0.8888888888888888, \"#fdca26\"], [1.0, \"#f0f921\"]]}, \"colorway\": [\"#636efa\", \"#EF553B\", \"#00cc96\", \"#ab63fa\", \"#FFA15A\", \"#19d3f3\", \"#FF6692\", \"#B6E880\", \"#FF97FF\", \"#FECB52\"], \"font\": {\"color\": \"#2a3f5f\"}, \"geo\": {\"bgcolor\": \"white\", \"lakecolor\": \"white\", \"landcolor\": \"#E5ECF6\", \"showlakes\": true, \"showland\": true, \"subunitcolor\": \"white\"}, \"hoverlabel\": {\"align\": \"left\"}, \"hovermode\": \"closest\", \"mapbox\": {\"style\": \"light\"}, \"paper_bgcolor\": \"white\", \"plot_bgcolor\": \"#E5ECF6\", \"polar\": {\"angularaxis\": {\"gridcolor\": \"white\", \"linecolor\": \"white\", \"ticks\": \"\"}, \"bgcolor\": \"#E5ECF6\", \"radialaxis\": {\"gridcolor\": \"white\", \"linecolor\": \"white\", \"ticks\": \"\"}}, \"scene\": {\"xaxis\": {\"backgroundcolor\": \"#E5ECF6\", \"gridcolor\": \"white\", \"gridwidth\": 2, \"linecolor\": \"white\", \"showbackground\": true, \"ticks\": \"\", \"zerolinecolor\": \"white\"}, \"yaxis\": {\"backgroundcolor\": \"#E5ECF6\", \"gridcolor\": \"white\", \"gridwidth\": 2, \"linecolor\": \"white\", \"showbackground\": true, \"ticks\": \"\", \"zerolinecolor\": \"white\"}, \"zaxis\": {\"backgroundcolor\": \"#E5ECF6\", \"gridcolor\": \"white\", \"gridwidth\": 2, \"linecolor\": \"white\", \"showbackground\": true, \"ticks\": \"\", \"zerolinecolor\": \"white\"}}, \"shapedefaults\": {\"line\": {\"color\": \"#2a3f5f\"}}, \"ternary\": {\"aaxis\": {\"gridcolor\": \"white\", \"linecolor\": \"white\", \"ticks\": \"\"}, \"baxis\": {\"gridcolor\": \"white\", \"linecolor\": \"white\", \"ticks\": \"\"}, \"bgcolor\": \"#E5ECF6\", \"caxis\": {\"gridcolor\": \"white\", \"linecolor\": \"white\", \"ticks\": \"\"}}, \"title\": {\"x\": 0.05}, \"xaxis\": {\"automargin\": true, \"gridcolor\": \"white\", \"linecolor\": \"white\", \"ticks\": \"\", \"title\": {\"standoff\": 15}, \"zerolinecolor\": \"white\", \"zerolinewidth\": 2}, \"yaxis\": {\"automargin\": true, \"gridcolor\": \"white\", \"linecolor\": \"white\", \"ticks\": \"\", \"title\": {\"standoff\": 15}, \"zerolinecolor\": \"white\", \"zerolinewidth\": 2}}}},\n",
              "                        {\"responsive\": true}\n",
              "                    ).then(function(){\n",
              "                            \n",
              "var gd = document.getElementById('e7fb82df-c358-4b28-8b98-9530f3667306');\n",
              "var x = new MutationObserver(function (mutations, observer) {{\n",
              "        var display = window.getComputedStyle(gd).display;\n",
              "        if (!display || display === 'none') {{\n",
              "            console.log([gd, 'removed!']);\n",
              "            Plotly.purge(gd);\n",
              "            observer.disconnect();\n",
              "        }}\n",
              "}});\n",
              "\n",
              "// Listen for the removal of the full notebook cells\n",
              "var notebookContainer = gd.closest('#notebook-container');\n",
              "if (notebookContainer) {{\n",
              "    x.observe(notebookContainer, {childList: true});\n",
              "}}\n",
              "\n",
              "// Listen for the clearing of the current output cell\n",
              "var outputEl = gd.closest('.output');\n",
              "if (outputEl) {{\n",
              "    x.observe(outputEl, {childList: true});\n",
              "}}\n",
              "\n",
              "                        })\n",
              "                };\n",
              "                \n",
              "            </script>\n",
              "        </div>\n",
              "</body>\n",
              "</html>"
            ]
          },
          "metadata": {
            "tags": []
          }
        }
      ]
    },
    {
      "cell_type": "code",
      "metadata": {
        "id": "yhXYFWdGHjGq"
      },
      "source": [
        ""
      ],
      "execution_count": null,
      "outputs": []
    }
  ]
}